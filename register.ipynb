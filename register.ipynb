{
 "cells": [
  {
   "cell_type": "code",
   "execution_count": null,
   "metadata": {},
   "outputs": [],
   "source": [
    "def register():\n",
    "    account_name = input(\"Enter Account name: \")\n",
    "    process = True\n",
    "    while process:\n",
    "        pin = int(input(\"Enter 4 digit pin: \"))\n",
    "        if pin not in range (1000,10000):\n",
    "            print(\"Invalid Pin\")\n",
    "            print(f'Please try again!')\n",
    "        else:\n",
    "            print(\"Registration Successful\")   \n",
    "            process = False\n",
    "            return account_name, pin "
   ]
  },
  {
   "cell_type": "code",
   "execution_count": null,
   "metadata": {},
   "outputs": [],
   "source": [
    "name, pin = register()\n",
    "print(name)\n",
    "print(pin)"
   ]
  }
 ],
 "metadata": {
  "language_info": {
   "name": "python"
  },
  "orig_nbformat": 4
 },
 "nbformat": 4,
 "nbformat_minor": 2
}
